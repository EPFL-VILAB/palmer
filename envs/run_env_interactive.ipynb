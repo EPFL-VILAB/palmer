{
 "cells": [
  {
   "cell_type": "markdown",
   "id": "31a30d7c-3bdd-4a6b-a370-d92f0b30772e",
   "metadata": {
    "tags": []
   },
   "source": [
    "# Load the Game Registry"
   ]
  },
  {
   "cell_type": "code",
   "execution_count": 1,
   "id": "c90bc8b5-8e86-436e-9ed8-92aa92203c00",
   "metadata": {},
   "outputs": [
    {
     "name": "stdout",
     "output_type": "stream",
     "text": [
      "pygame 2.1.0 (SDL 2.0.16, Python 3.6.13)\n",
      "Hello from the pygame community. https://www.pygame.org/contribute.html\n"
     ]
    }
   ],
   "source": [
    "import sys\n",
    "import numpy as np\n",
    "from game_registry import GAMES, GAME_NAMES"
   ]
  },
  {
   "cell_type": "code",
   "execution_count": 2,
   "id": "66dfbbc1-1fa5-4e91-a805-c49e1c872284",
   "metadata": {},
   "outputs": [
    {
     "name": "stdout",
     "output_type": "stream",
     "text": [
      "dict_keys(['SimpleExplorationGame', 'SimpleExplorationGame2', 'SimpleExplorationGameStochastic', 'LunarLanderExplorationGame'])\n"
     ]
    }
   ],
   "source": [
    "print(GAME_NAMES)"
   ]
  },
  {
   "cell_type": "markdown",
   "id": "a4e83829-efc2-4af9-8563-0bc520023cdb",
   "metadata": {},
   "source": [
    "# Create the Environment"
   ]
  },
  {
   "cell_type": "code",
   "execution_count": 3,
   "id": "dbdf9862-94ba-47dd-8460-c1ad9b161242",
   "metadata": {},
   "outputs": [],
   "source": [
    "from envs.vizdoom_env import VizdoomEnv"
   ]
  },
  {
   "cell_type": "code",
   "execution_count": 4,
   "id": "045c53b0-f6a4-43d4-94a8-01cb43babe82",
   "metadata": {},
   "outputs": [],
   "source": [
    "env = VizdoomEnv('SimpleExplorationGame')"
   ]
  },
  {
   "cell_type": "code",
   "execution_count": 5,
   "id": "bf715260-3dbf-4b41-a4d1-a270d2d004b4",
   "metadata": {},
   "outputs": [],
   "source": [
    "_ = env.reset()"
   ]
  },
  {
   "cell_type": "markdown",
   "id": "87a82638-8ad0-4331-835a-a41e9eb5a7c8",
   "metadata": {},
   "source": [
    "# Do the Key Assignments"
   ]
  },
  {
   "cell_type": "code",
   "execution_count": 6,
   "id": "fea97301-3ebb-44ed-8247-087807d9de61",
   "metadata": {},
   "outputs": [
    {
     "data": {
      "text/plain": [
       "['MOVE_FORWARD', 'MOVE_RIGHT', 'MOVE_BACKWARD', 'MOVE_LEFT', 'IDLE']"
      ]
     },
     "execution_count": 6,
     "metadata": {},
     "output_type": "execute_result"
    }
   ],
   "source": [
    "env.game.button_names"
   ]
  },
  {
   "cell_type": "code",
   "execution_count": 7,
   "id": "75ddb092-f488-4b27-bb92-2fb48a9373ce",
   "metadata": {},
   "outputs": [
    {
     "data": {
      "text/plain": [
       "[[1, 0, 0, 0, 0],\n",
       " [0, 1, 0, 0, 0],\n",
       " [0, 0, 1, 0, 0],\n",
       " [0, 0, 0, 1, 0],\n",
       " [0, 0, 0, 0, 0]]"
      ]
     },
     "execution_count": 7,
     "metadata": {},
     "output_type": "execute_result"
    }
   ],
   "source": [
    "env.game.buttons"
   ]
  },
  {
   "cell_type": "code",
   "execution_count": 8,
   "id": "ad460d57-b5f3-4b57-b272-8c94e9013d56",
   "metadata": {},
   "outputs": [
    {
     "data": {
      "text/plain": [
       "['MOVE_FORWARD', 'MOVE_RIGHT', 'MOVE_BACKWARD', 'MOVE_LEFT', 'IDLE']"
      ]
     },
     "execution_count": 8,
     "metadata": {},
     "output_type": "execute_result"
    }
   ],
   "source": [
    "env.game.action_names"
   ]
  },
  {
   "cell_type": "code",
   "execution_count": 9,
   "id": "c232cb07-ec8d-4fef-8664-c282cbb22867",
   "metadata": {},
   "outputs": [],
   "source": [
    "action_key_assignments = {\"w\": 0, \"d\": 1, \"s\": 2, \"a\":3, \"e\":4}"
   ]
  },
  {
   "cell_type": "code",
   "execution_count": 10,
   "id": "8eecb9b3-268d-413e-ad95-0ba6b75f4434",
   "metadata": {},
   "outputs": [],
   "source": [
    "from IPython.display import clear_output\n",
    "import matplotlib.pyplot as plt\n",
    "from PIL import Image\n",
    "import time\n",
    "            \n",
    "def interactive_vis(env, data=[]):\n",
    "\n",
    "    while True:\n",
    "        keystroke = input()\n",
    "        clear_output()\n",
    "        \n",
    "        if keystroke in action_key_assignments.keys():\n",
    "            action = action_key_assignments[keystroke]\n",
    "            print(\"action:\", env.game.action_names[action])\n",
    "            t0 = time.time()\n",
    "            env.step(action)\n",
    "            t1 = time.time()\n",
    "            print(\"Env step time: \", t1-t0)\n",
    "            env.render()\n",
    "            plt.show()\n",
    "            \n",
    "            im = Image.fromarray(env.game.map)\n",
    "            im.show()\n",
    "        \n",
    "        elif keystroke == \"f\":\n",
    "            action = \"finish\"\n",
    "            print(\"action: FINISH\")\n",
    "            break\n",
    "        else:\n",
    "            print(\"INVALID KEY\")\n",
    "            continue"
   ]
  },
  {
   "cell_type": "code",
   "execution_count": 11,
   "id": "8fde8dd1-6a70-409f-93f4-8c5f9a91050d",
   "metadata": {},
   "outputs": [
    {
     "name": "stdout",
     "output_type": "stream",
     "text": [
      "action: FINISH\n"
     ]
    }
   ],
   "source": [
    "interactive_vis(env)"
   ]
  },
  {
   "cell_type": "code",
   "execution_count": null,
   "id": "388d0dbf-3438-4325-a34e-1c60c250e678",
   "metadata": {},
   "outputs": [],
   "source": []
  },
  {
   "cell_type": "code",
   "execution_count": null,
   "id": "580e2b85-a7a3-470a-a2a4-d2112f8f1116",
   "metadata": {},
   "outputs": [],
   "source": []
  }
 ],
 "metadata": {
  "kernelspec": {
   "display_name": "Python 3 (ipykernel)",
   "language": "python",
   "name": "python3"
  },
  "language_info": {
   "codemirror_mode": {
    "name": "ipython",
    "version": 3
   },
   "file_extension": ".py",
   "mimetype": "text/x-python",
   "name": "python",
   "nbconvert_exporter": "python",
   "pygments_lexer": "ipython3",
   "version": "3.7.11"
  }
 },
 "nbformat": 4,
 "nbformat_minor": 5
}
